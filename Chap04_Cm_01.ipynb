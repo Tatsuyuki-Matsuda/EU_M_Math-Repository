{
  "nbformat": 4,
  "nbformat_minor": 0,
  "metadata": {
    "colab": {
      "name": "Chap04-Cm-01.ipynb",
      "provenance": [],
      "collapsed_sections": [],
      "authorship_tag": "ABX9TyOTZMF/v8Nqon5Lcr/BzTUW",
      "include_colab_link": true
    },
    "kernelspec": {
      "name": "python3",
      "display_name": "Python 3"
    },
    "language_info": {
      "name": "python"
    }
  },
  "cells": [
    {
      "cell_type": "markdown",
      "metadata": {
        "id": "view-in-github",
        "colab_type": "text"
      },
      "source": [
        "<a href=\"https://colab.research.google.com/github/Tatsuyuki-Matsuda/EU_M_Math-Repository/blob/main/Chap04_Cm_01.ipynb\" target=\"_parent\"><img src=\"https://colab.research.google.com/assets/colab-badge.svg\" alt=\"Open In Colab\"/></a>"
      ]
    },
    {
      "cell_type": "code",
      "source": [
        "import requests, zipfile\n",
        "from io import StringIO\n",
        "import io\n",
        "\n",
        "url = 'https://archive.ics.uci.edu/ml/machine-learning-databases/00356/student.zip'\n",
        "\n",
        "r = requests.get(url, stream=True)\n",
        "\n",
        "z = zipfile.ZipFile(io.BytesIO(r.content))\n",
        "z.extractall()\n",
        "\n",
        "import pandas as pd\n",
        "student_data_math = pd.read_csv('student-mat.csv', sep=';')\n",
        "student_data_por = pd.read_csv('student-por.csv', sep=';')\n",
        "\n",
        "student_data_mat_por = pd.merge(student_data_math,\n",
        "                                student_data_por,\n",
        "                                on = ['school','sex','age','address','famsize','Pstatus','Medu','Fedu','Mjob','Fjob','reason','nursery','internet'],\n",
        "                                suffixes = ('_math', '_por')\n",
        "                                )"
      ],
      "metadata": {
        "id": "bq3qpR7EY9Si"
      },
      "execution_count": null,
      "outputs": []
    },
    {
      "cell_type": "code",
      "execution_count": null,
      "metadata": {
        "colab": {
          "base_uri": "https://localhost:8080/"
        },
        "id": "8J5xtpkkYvEP",
        "outputId": "2c9d1294-f6da-4e15-97cb-42530346c04f"
      },
      "outputs": [
        {
          "output_type": "stream",
          "name": "stdout",
          "text": [
            "数学の欠席数平均 : 5.319371727748691\n",
            "ポルトガル語の欠席数平均 : 3.6727748691099475\n",
            "p値 =  2.3441656888384195e-06\n"
          ]
        }
      ],
      "source": [
        "#Comprehensive 4-1-1\n",
        "absences_math_ave = student_data_mat_por.absences_math.mean()\n",
        "absences_por_ave = student_data_mat_por.absences_por.mean()\n",
        "print('数学の欠席数平均 :', absences_math_ave)\n",
        "print('ポルトガル語の欠席数平均 :', absences_por_ave)\n",
        "\n",
        "from scipy import stats\n",
        "t, p = stats.ttest_rel(student_data_mat_por.absences_math, student_data_mat_por.absences_por)\n",
        "print( 'p値 = ',p)"
      ]
    },
    {
      "cell_type": "markdown",
      "source": [
        "有意差pは非常に小さく、有意水準1%未満でも「差がある」と言える"
      ],
      "metadata": {
        "id": "ndn-SOkOfhYO"
      }
    },
    {
      "cell_type": "code",
      "source": [
        "#Comprehensive 4-1-2\n",
        "studytime_math_ave = student_data_mat_por.studytime_math.mean()\n",
        "studytime_por_ave = student_data_mat_por.studytime_por.mean()\n",
        "print('数学の勉強時間平均 :', studytime_math_ave)\n",
        "print('ポルトガル語の勉強時間平均 :', studytime_por_ave)\n",
        "\n",
        "t, p = stats.ttest_rel(student_data_mat_por.studytime_math, student_data_mat_por.studytime_por)\n",
        "print( 'p値 = ',p)"
      ],
      "metadata": {
        "colab": {
          "base_uri": "https://localhost:8080/"
        },
        "id": "VpeYixUaY72K",
        "outputId": "081da8c6-c9c2-41a0-830f-4936cf7ac88f"
      },
      "execution_count": null,
      "outputs": [
        {
          "output_type": "stream",
          "name": "stdout",
          "text": [
            "数学の勉強時間平均 : 2.0340314136125652\n",
            "ポルトガル語の勉強時間平均 : 2.0392670157068062\n",
            "p値 =  0.5643842756976525\n"
          ]
        }
      ]
    },
    {
      "cell_type": "markdown",
      "source": [
        "有意差pは大きく、有意水準5%でも「差がある」とは言えない"
      ],
      "metadata": {
        "id": "9dbhOI9Lf2nh"
      }
    }
  ]
}