{
  "nbformat": 4,
  "nbformat_minor": 0,
  "metadata": {
    "colab": {
      "name": "Advanced Mathematics Chapter10 TU22015.ipynb",
      "provenance": [],
      "authorship_tag": "ABX9TyPlkGvFOdvlbvayzDuOaqbF",
      "include_colab_link": true
    },
    "kernelspec": {
      "name": "python3",
      "display_name": "Python 3"
    },
    "language_info": {
      "name": "python"
    }
  },
  "cells": [
    {
      "cell_type": "markdown",
      "metadata": {
        "id": "view-in-github",
        "colab_type": "text"
      },
      "source": [
        "<a href=\"https://colab.research.google.com/github/Tatsuyuki-Matsuda/EU_M_Math-Repository/blob/main/Deep_learning_material_TU22015.ipynb\" target=\"_parent\"><img src=\"https://colab.research.google.com/assets/colab-badge.svg\" alt=\"Open In Colab\"/></a>"
      ]
    },
    {
      "cell_type": "markdown",
      "source": [
        "Perceptron"
      ],
      "metadata": {
        "id": "cN8OLDx9bJrs"
      }
    },
    {
      "cell_type": "code",
      "execution_count": 37,
      "metadata": {
        "colab": {
          "base_uri": "https://localhost:8080/"
        },
        "id": "tpLb9c4zXsn4",
        "outputId": "9d8f8a5d-878c-4b2c-debc-128db8e20898"
      },
      "outputs": [
        {
          "output_type": "stream",
          "name": "stdout",
          "text": [
            "Accuracy: 1.0\n"
          ]
        }
      ],
      "source": [
        "import numpy as np \n",
        "from sklearn.datasets import load_iris \n",
        "from sklearn.linear_model import Perceptron\n",
        "from sklearn.model_selection import train_test_split\n",
        "from sklearn.metrics import accuracy_score\n",
        "\n",
        "#データセットをロード\n",
        "iris = load_iris()\n",
        "#predictor と target に分ける\n",
        "X = iris.data\n",
        "#Iris Setosaが1の値をとり、それ以外は0\n",
        "Y = (iris.target==0).astype(int)\n",
        "\n",
        "#データセットのシャッフルをして、トレーニング用とテスト用のデータに分ける\n",
        "#モデルの評価をしっかりやりたい時は、cross validationを実行、さらにハイパーパラメータの最適化を行う\n",
        "train_X, test_X, train_Y, test_Y = train_test_split(X,Y,test_size = 0.3, random_state=42, shuffle=True)\n",
        "\n",
        "#トレーニング\n",
        "perc_clf = Perceptron()\n",
        "perc_clf.fit(train_X,train_Y)\n",
        "\n",
        "#テスト\n",
        "predictions = perc_clf.predict(test_X)\n",
        "\n",
        "#Accuracyを計算\n",
        "print(\"Accuracy: \" +str(accuracy_score(test_Y,predictions)))"
      ]
    },
    {
      "cell_type": "markdown",
      "source": [
        "Multi Layer Perceptron using Scikit learn"
      ],
      "metadata": {
        "id": "LLRP90YnbUSS"
      }
    },
    {
      "cell_type": "code",
      "source": [
        "from sklearn.datasets import load_iris\n",
        "from sklearn.neural_network import MLPClassifier\n",
        "from sklearn.model_selection import train_test_split\n",
        "from sklearn.metrics import accuracy_score\n",
        "#データセットをロード\n",
        "iris = load_iris()\n",
        "#predictor と　target に分ける\n",
        "X = iris.data\n",
        "Y = iris.target\n",
        "\n",
        "#データセットのシャッフルをして、トレーニング用とテスト用のデータに分ける\n",
        "#モデルの評価をしっかりやりたい時は、validationのデータセットを作るのが良い。\n",
        "train_X, test_X, train_Y, test_Y = train_test_split(X,Y,test_size = 0.3, random_state=42, shuffle=True)\n",
        "\n",
        "#二つのHidden Layer を追加、それぞれ10個のニューロンを持つ\n",
        "mlp_clsf = MLPClassifier((10,10),activation ='relu',learning_rate='constant',learning_rate_init=0.001,max_iter=1000,random_state=42)\n",
        "mlp_clsf.fit(train_X,train_Y)\n",
        "predictions = mlp_clsf.predict(test_X)\n",
        "print(\"Accuracy: \"+str(accuracy_score(test_Y,predictions)))"
      ],
      "metadata": {
        "colab": {
          "base_uri": "https://localhost:8080/"
        },
        "id": "kbBtMhX7YXsB",
        "outputId": "393acef3-2d94-4cc9-a83a-784192e1e20f"
      },
      "execution_count": 38,
      "outputs": [
        {
          "output_type": "stream",
          "name": "stdout",
          "text": [
            "Accuracy: 0.9777777777777777\n"
          ]
        }
      ]
    },
    {
      "cell_type": "code",
      "source": [
        "#確率の合計が１かを確認\n",
        "mlp_clsf.predict_proba(test_X[0].reshape(1,-1)).sum()"
      ],
      "metadata": {
        "colab": {
          "base_uri": "https://localhost:8080/"
        },
        "id": "lHbxcFddY2Un",
        "outputId": "72d49dde-158d-4e11-98b3-18f9de64f418"
      },
      "execution_count": 39,
      "outputs": [
        {
          "output_type": "execute_result",
          "data": {
            "text/plain": [
              "1.0"
            ]
          },
          "metadata": {},
          "execution_count": 39
        }
      ]
    },
    {
      "cell_type": "markdown",
      "source": [
        "Activation Function"
      ],
      "metadata": {
        "id": "SQI_CFPXbZhB"
      }
    },
    {
      "cell_type": "code",
      "source": [
        "mlp_clsf.out_activation_"
      ],
      "metadata": {
        "colab": {
          "base_uri": "https://localhost:8080/",
          "height": 36
        },
        "id": "Z7N91JmdY4N7",
        "outputId": "7af7f1dd-76e0-48c6-ae75-fe8bb70efba5"
      },
      "execution_count": 40,
      "outputs": [
        {
          "output_type": "execute_result",
          "data": {
            "text/plain": [
              "'softmax'"
            ],
            "application/vnd.google.colaboratory.intrinsic+json": {
              "type": "string"
            }
          },
          "metadata": {},
          "execution_count": 40
        }
      ]
    },
    {
      "cell_type": "markdown",
      "source": [
        "MLP Regression"
      ],
      "metadata": {
        "id": "SwhpuSzHbfYN"
      }
    },
    {
      "cell_type": "code",
      "source": [
        "from sklearn.datasets import load_boston\n",
        "from sklearn.neural_network import MLPRegressor\n",
        "from sklearn.model_selection import train_test_split\n",
        "from sklearn.metrics import mean_squared_error\n",
        "\n",
        "#データセットをロード\n",
        "dataset = load_boston()\n",
        "X = dataset['data']\n",
        "Y = dataset['target']\n",
        "\n",
        "#テストとトレーニングのデータセットに分ける\n",
        "#モデルの評価をしっかりやりたい時は、validationのデータセットを作るのが良い。\n",
        "train_X, test_X, train_Y, test_Y = train_test_split(X,Y,test_size = 0.3, random_state=42, shuffle=True)\n",
        "\n",
        "#2個のhidden layerを追加 activation function は relu.\n",
        "mlp_reg = MLPRegressor((10,10),activation='relu',learning_rate='constant',learning_rate_init=0.001,max_iter=3000,random_state=42)\n",
        "mlp_reg.fit(train_X,train_Y)\n",
        "predictions = mlp_reg.predict(test_X)\n",
        "\n",
        "#RSMEを計算\n",
        "error = mean_squared_error(test_Y,predictions) ** (1/2)\n",
        "print(\"RSME: \" +str(error))"
      ],
      "metadata": {
        "colab": {
          "base_uri": "https://localhost:8080/"
        },
        "id": "pAB9eW4ubhxm",
        "outputId": "9739c908-7657-48bb-8fd1-5c2c48ed4b92"
      },
      "execution_count": 41,
      "outputs": [
        {
          "output_type": "stream",
          "name": "stderr",
          "text": [
            "/usr/local/lib/python3.7/dist-packages/sklearn/utils/deprecation.py:87: FutureWarning: Function load_boston is deprecated; `load_boston` is deprecated in 1.0 and will be removed in 1.2.\n",
            "\n",
            "    The Boston housing prices dataset has an ethical problem. You can refer to\n",
            "    the documentation of this function for further details.\n",
            "\n",
            "    The scikit-learn maintainers therefore strongly discourage the use of this\n",
            "    dataset unless the purpose of the code is to study and educate about\n",
            "    ethical issues in data science and machine learning.\n",
            "\n",
            "    In this special case, you can fetch the dataset from the original\n",
            "    source::\n",
            "\n",
            "        import pandas as pd\n",
            "        import numpy as np\n",
            "\n",
            "\n",
            "        data_url = \"http://lib.stat.cmu.edu/datasets/boston\"\n",
            "        raw_df = pd.read_csv(data_url, sep=\"\\s+\", skiprows=22, header=None)\n",
            "        data = np.hstack([raw_df.values[::2, :], raw_df.values[1::2, :2]])\n",
            "        target = raw_df.values[1::2, 2]\n",
            "\n",
            "    Alternative datasets include the California housing dataset (i.e.\n",
            "    :func:`~sklearn.datasets.fetch_california_housing`) and the Ames housing\n",
            "    dataset. You can load the datasets as follows::\n",
            "\n",
            "        from sklearn.datasets import fetch_california_housing\n",
            "        housing = fetch_california_housing()\n",
            "\n",
            "    for the California housing dataset and::\n",
            "\n",
            "        from sklearn.datasets import fetch_openml\n",
            "        housing = fetch_openml(name=\"house_prices\", as_frame=True)\n",
            "\n",
            "    for the Ames housing dataset.\n",
            "    \n",
            "  warnings.warn(msg, category=FutureWarning)\n"
          ]
        },
        {
          "output_type": "stream",
          "name": "stdout",
          "text": [
            "RSME: 4.699377521565086\n"
          ]
        }
      ]
    },
    {
      "cell_type": "code",
      "source": [
        "mlp_reg.out_activation_"
      ],
      "metadata": {
        "colab": {
          "base_uri": "https://localhost:8080/",
          "height": 36
        },
        "id": "yagSnuLnjn1c",
        "outputId": "8aa9283b-505d-4c35-d9a7-8f7fa3f0f8ed"
      },
      "execution_count": 42,
      "outputs": [
        {
          "output_type": "execute_result",
          "data": {
            "text/plain": [
              "'identity'"
            ],
            "application/vnd.google.colaboratory.intrinsic+json": {
              "type": "string"
            }
          },
          "metadata": {},
          "execution_count": 42
        }
      ]
    },
    {
      "cell_type": "markdown",
      "source": [
        "Regression using Keras"
      ],
      "metadata": {
        "id": "Kkjnlve9jt_H"
      }
    },
    {
      "cell_type": "code",
      "source": [
        "import tensorflow as tf \n",
        "from tensorflow import keras\n",
        "from sklearn.preprocessing import StandardScaler\n",
        "\n",
        "#データセットをダウンロード\n",
        "house_price = keras.datasets.boston_housing\n",
        "#データをtraining, validation, test に分ける\n",
        "(train_X, train_Y), (test_X, test_Y) = house_price.load_data()\n",
        "train_X, valid_X, train_Y, valid_Y = train_test_split(train_X, train_Y)\n",
        "\n",
        "#変数をスケーリング 最適化を早くするため\n",
        "scaler = StandardScaler()\n",
        "train_X = scaler.fit_transform(train_X)\n",
        "valid_X = scaler.fit_transform(valid_X)\n",
        "test_X = scaler.fit_transform(test_X)\n",
        "\n",
        "#KerasのSequential model を使う\n",
        "keras_model = keras.models.Sequential()\n",
        "#インプットレイヤーを追加\n",
        "keras_model.add(tf.keras.Input(shape=train_X.shape[1:],))\n",
        "#Hidden layer を追加\n",
        "keras_model.add(tf.keras.layers.Dense(30,activation=\"relu\"))\n",
        "#Output layer を追加\n",
        "keras_model.add(tf.keras.layers.Dense(1))\n",
        "\n",
        "keras_model.summary()\n",
        "\n",
        "#モデルをコンパイル\n",
        "keras_model.compile(loss=\"mean_squared_error\", optimizer=\"sgd\",metrics=[tf.keras.metrics.RootMeanSquaredError(name=\"root_mean_squared_error\", dtype=None)])\n",
        "\n",
        "#モデルをトレーニング\n",
        "#validationのデータセットがあれば、それを渡すことで、validationに関してのlossやRMSEの計算なども簡単にで\n",
        "history = keras_model.fit(train_X, train_Y, epochs=70, validation_data=(valid_X, valid_Y))"
      ],
      "metadata": {
        "colab": {
          "base_uri": "https://localhost:8080/"
        },
        "id": "SjnVCXMfjxQu",
        "outputId": "203f4c3d-eaaf-46ed-f0b0-3d1a28e0bcc3"
      },
      "execution_count": 43,
      "outputs": [
        {
          "output_type": "stream",
          "name": "stdout",
          "text": [
            "Model: \"sequential_3\"\n",
            "_________________________________________________________________\n",
            " Layer (type)                Output Shape              Param #   \n",
            "=================================================================\n",
            " dense_5 (Dense)             (None, 30)                420       \n",
            "                                                                 \n",
            " dense_6 (Dense)             (None, 1)                 31        \n",
            "                                                                 \n",
            "=================================================================\n",
            "Total params: 451\n",
            "Trainable params: 451\n",
            "Non-trainable params: 0\n",
            "_________________________________________________________________\n",
            "Epoch 1/70\n",
            "10/10 [==============================] - 1s 19ms/step - loss: 200.1701 - root_mean_squared_error: 14.1481 - val_loss: 45.4412 - val_root_mean_squared_error: 6.7410\n",
            "Epoch 2/70\n",
            "10/10 [==============================] - 0s 6ms/step - loss: 21.7584 - root_mean_squared_error: 4.6646 - val_loss: 34.6580 - val_root_mean_squared_error: 5.8871\n",
            "Epoch 3/70\n",
            "10/10 [==============================] - 0s 6ms/step - loss: 16.9900 - root_mean_squared_error: 4.1219 - val_loss: 50.5846 - val_root_mean_squared_error: 7.1123\n",
            "Epoch 4/70\n",
            "10/10 [==============================] - 0s 6ms/step - loss: 17.9463 - root_mean_squared_error: 4.2363 - val_loss: 24.9156 - val_root_mean_squared_error: 4.9916\n",
            "Epoch 5/70\n",
            "10/10 [==============================] - 0s 4ms/step - loss: 13.6197 - root_mean_squared_error: 3.6905 - val_loss: 21.0763 - val_root_mean_squared_error: 4.5909\n",
            "Epoch 6/70\n",
            "10/10 [==============================] - 0s 6ms/step - loss: 12.4888 - root_mean_squared_error: 3.5339 - val_loss: 23.0650 - val_root_mean_squared_error: 4.8026\n",
            "Epoch 7/70\n",
            "10/10 [==============================] - 0s 5ms/step - loss: 11.3581 - root_mean_squared_error: 3.3702 - val_loss: 26.8497 - val_root_mean_squared_error: 5.1817\n",
            "Epoch 8/70\n",
            "10/10 [==============================] - 0s 4ms/step - loss: 11.0809 - root_mean_squared_error: 3.3288 - val_loss: 17.5324 - val_root_mean_squared_error: 4.1872\n",
            "Epoch 9/70\n",
            "10/10 [==============================] - 0s 4ms/step - loss: 10.2327 - root_mean_squared_error: 3.1989 - val_loss: 27.5439 - val_root_mean_squared_error: 5.2482\n",
            "Epoch 10/70\n",
            "10/10 [==============================] - 0s 6ms/step - loss: 10.0513 - root_mean_squared_error: 3.1704 - val_loss: 16.5030 - val_root_mean_squared_error: 4.0624\n",
            "Epoch 11/70\n",
            "10/10 [==============================] - 0s 4ms/step - loss: 8.3412 - root_mean_squared_error: 2.8881 - val_loss: 17.7830 - val_root_mean_squared_error: 4.2170\n",
            "Epoch 12/70\n",
            "10/10 [==============================] - 0s 6ms/step - loss: 9.2479 - root_mean_squared_error: 3.0410 - val_loss: 21.6848 - val_root_mean_squared_error: 4.6567\n",
            "Epoch 13/70\n",
            "10/10 [==============================] - 0s 4ms/step - loss: 8.1283 - root_mean_squared_error: 2.8510 - val_loss: 16.7468 - val_root_mean_squared_error: 4.0923\n",
            "Epoch 14/70\n",
            "10/10 [==============================] - 0s 5ms/step - loss: 8.4430 - root_mean_squared_error: 2.9057 - val_loss: 17.2149 - val_root_mean_squared_error: 4.1491\n",
            "Epoch 15/70\n",
            "10/10 [==============================] - 0s 6ms/step - loss: 7.9731 - root_mean_squared_error: 2.8237 - val_loss: 16.2237 - val_root_mean_squared_error: 4.0279\n",
            "Epoch 16/70\n",
            "10/10 [==============================] - 0s 6ms/step - loss: 8.0415 - root_mean_squared_error: 2.8358 - val_loss: 17.2548 - val_root_mean_squared_error: 4.1539\n",
            "Epoch 17/70\n",
            "10/10 [==============================] - 0s 6ms/step - loss: 7.8956 - root_mean_squared_error: 2.8099 - val_loss: 16.0029 - val_root_mean_squared_error: 4.0004\n",
            "Epoch 18/70\n",
            "10/10 [==============================] - 0s 5ms/step - loss: 7.3688 - root_mean_squared_error: 2.7145 - val_loss: 16.4806 - val_root_mean_squared_error: 4.0596\n",
            "Epoch 19/70\n",
            "10/10 [==============================] - 0s 4ms/step - loss: 8.5787 - root_mean_squared_error: 2.9289 - val_loss: 15.8361 - val_root_mean_squared_error: 3.9795\n",
            "Epoch 20/70\n",
            "10/10 [==============================] - 0s 4ms/step - loss: 7.6047 - root_mean_squared_error: 2.7577 - val_loss: 20.0030 - val_root_mean_squared_error: 4.4725\n",
            "Epoch 21/70\n",
            "10/10 [==============================] - 0s 4ms/step - loss: 6.8076 - root_mean_squared_error: 2.6091 - val_loss: 17.7491 - val_root_mean_squared_error: 4.2130\n",
            "Epoch 22/70\n",
            "10/10 [==============================] - 0s 4ms/step - loss: 7.5669 - root_mean_squared_error: 2.7508 - val_loss: 19.2003 - val_root_mean_squared_error: 4.3818\n",
            "Epoch 23/70\n",
            "10/10 [==============================] - 0s 6ms/step - loss: 7.3944 - root_mean_squared_error: 2.7193 - val_loss: 17.0547 - val_root_mean_squared_error: 4.1297\n",
            "Epoch 24/70\n",
            "10/10 [==============================] - 0s 7ms/step - loss: 7.5579 - root_mean_squared_error: 2.7492 - val_loss: 15.0074 - val_root_mean_squared_error: 3.8739\n",
            "Epoch 25/70\n",
            "10/10 [==============================] - 0s 6ms/step - loss: 7.1481 - root_mean_squared_error: 2.6736 - val_loss: 16.4243 - val_root_mean_squared_error: 4.0527\n",
            "Epoch 26/70\n",
            "10/10 [==============================] - 0s 4ms/step - loss: 6.9010 - root_mean_squared_error: 2.6270 - val_loss: 16.4166 - val_root_mean_squared_error: 4.0517\n",
            "Epoch 27/70\n",
            "10/10 [==============================] - 0s 6ms/step - loss: 7.0347 - root_mean_squared_error: 2.6523 - val_loss: 19.6120 - val_root_mean_squared_error: 4.4285\n",
            "Epoch 28/70\n",
            "10/10 [==============================] - 0s 4ms/step - loss: 6.9645 - root_mean_squared_error: 2.6390 - val_loss: 17.7711 - val_root_mean_squared_error: 4.2156\n",
            "Epoch 29/70\n",
            "10/10 [==============================] - 0s 6ms/step - loss: 6.9238 - root_mean_squared_error: 2.6313 - val_loss: 16.4292 - val_root_mean_squared_error: 4.0533\n",
            "Epoch 30/70\n",
            "10/10 [==============================] - 0s 6ms/step - loss: 6.7763 - root_mean_squared_error: 2.6031 - val_loss: 16.9350 - val_root_mean_squared_error: 4.1152\n",
            "Epoch 31/70\n",
            "10/10 [==============================] - 0s 6ms/step - loss: 6.5686 - root_mean_squared_error: 2.5629 - val_loss: 15.5654 - val_root_mean_squared_error: 3.9453\n",
            "Epoch 32/70\n",
            "10/10 [==============================] - 0s 6ms/step - loss: 7.1186 - root_mean_squared_error: 2.6681 - val_loss: 17.3713 - val_root_mean_squared_error: 4.1679\n",
            "Epoch 33/70\n",
            "10/10 [==============================] - 0s 6ms/step - loss: 6.4681 - root_mean_squared_error: 2.5432 - val_loss: 16.1489 - val_root_mean_squared_error: 4.0186\n",
            "Epoch 34/70\n",
            "10/10 [==============================] - 0s 5ms/step - loss: 6.9208 - root_mean_squared_error: 2.6307 - val_loss: 15.1156 - val_root_mean_squared_error: 3.8879\n",
            "Epoch 35/70\n",
            "10/10 [==============================] - 0s 4ms/step - loss: 7.4400 - root_mean_squared_error: 2.7276 - val_loss: 18.1443 - val_root_mean_squared_error: 4.2596\n",
            "Epoch 36/70\n",
            "10/10 [==============================] - 0s 6ms/step - loss: 6.3952 - root_mean_squared_error: 2.5289 - val_loss: 16.5433 - val_root_mean_squared_error: 4.0673\n",
            "Epoch 37/70\n",
            "10/10 [==============================] - 0s 4ms/step - loss: 6.5324 - root_mean_squared_error: 2.5559 - val_loss: 16.7133 - val_root_mean_squared_error: 4.0882\n",
            "Epoch 38/70\n",
            "10/10 [==============================] - 0s 6ms/step - loss: 6.1404 - root_mean_squared_error: 2.4780 - val_loss: 16.2417 - val_root_mean_squared_error: 4.0301\n",
            "Epoch 39/70\n",
            "10/10 [==============================] - 0s 6ms/step - loss: 6.7723 - root_mean_squared_error: 2.6024 - val_loss: 15.2063 - val_root_mean_squared_error: 3.8995\n",
            "Epoch 40/70\n",
            "10/10 [==============================] - 0s 6ms/step - loss: 6.1520 - root_mean_squared_error: 2.4803 - val_loss: 16.1365 - val_root_mean_squared_error: 4.0170\n",
            "Epoch 41/70\n",
            "10/10 [==============================] - 0s 6ms/step - loss: 7.4270 - root_mean_squared_error: 2.7253 - val_loss: 15.0311 - val_root_mean_squared_error: 3.8770\n",
            "Epoch 42/70\n",
            "10/10 [==============================] - 0s 4ms/step - loss: 6.7552 - root_mean_squared_error: 2.5991 - val_loss: 15.4506 - val_root_mean_squared_error: 3.9307\n",
            "Epoch 43/70\n",
            "10/10 [==============================] - 0s 6ms/step - loss: 5.7407 - root_mean_squared_error: 2.3960 - val_loss: 16.5732 - val_root_mean_squared_error: 4.0710\n",
            "Epoch 44/70\n",
            "10/10 [==============================] - 0s 6ms/step - loss: 6.2298 - root_mean_squared_error: 2.4960 - val_loss: 20.2258 - val_root_mean_squared_error: 4.4973\n",
            "Epoch 45/70\n",
            "10/10 [==============================] - 0s 6ms/step - loss: 6.2404 - root_mean_squared_error: 2.4981 - val_loss: 15.5217 - val_root_mean_squared_error: 3.9398\n",
            "Epoch 46/70\n",
            "10/10 [==============================] - 0s 4ms/step - loss: 6.0428 - root_mean_squared_error: 2.4582 - val_loss: 19.9920 - val_root_mean_squared_error: 4.4712\n",
            "Epoch 47/70\n",
            "10/10 [==============================] - 0s 6ms/step - loss: 6.3543 - root_mean_squared_error: 2.5208 - val_loss: 21.9884 - val_root_mean_squared_error: 4.6892\n",
            "Epoch 48/70\n",
            "10/10 [==============================] - 0s 6ms/step - loss: 6.1156 - root_mean_squared_error: 2.4730 - val_loss: 15.7830 - val_root_mean_squared_error: 3.9728\n",
            "Epoch 49/70\n",
            "10/10 [==============================] - 0s 6ms/step - loss: 5.8798 - root_mean_squared_error: 2.4248 - val_loss: 19.8729 - val_root_mean_squared_error: 4.4579\n",
            "Epoch 50/70\n",
            "10/10 [==============================] - 0s 6ms/step - loss: 6.4486 - root_mean_squared_error: 2.5394 - val_loss: 18.0552 - val_root_mean_squared_error: 4.2491\n",
            "Epoch 51/70\n",
            "10/10 [==============================] - 0s 5ms/step - loss: 5.7189 - root_mean_squared_error: 2.3914 - val_loss: 17.0481 - val_root_mean_squared_error: 4.1289\n",
            "Epoch 52/70\n",
            "10/10 [==============================] - 0s 6ms/step - loss: 6.0111 - root_mean_squared_error: 2.4518 - val_loss: 23.5404 - val_root_mean_squared_error: 4.8518\n",
            "Epoch 53/70\n",
            "10/10 [==============================] - 0s 6ms/step - loss: 6.3239 - root_mean_squared_error: 2.5147 - val_loss: 20.3277 - val_root_mean_squared_error: 4.5086\n",
            "Epoch 54/70\n",
            "10/10 [==============================] - 0s 5ms/step - loss: 6.7683 - root_mean_squared_error: 2.6016 - val_loss: 15.3999 - val_root_mean_squared_error: 3.9243\n",
            "Epoch 55/70\n",
            "10/10 [==============================] - 0s 7ms/step - loss: 6.6973 - root_mean_squared_error: 2.5879 - val_loss: 15.9971 - val_root_mean_squared_error: 3.9996\n",
            "Epoch 56/70\n",
            "10/10 [==============================] - 0s 4ms/step - loss: 5.5567 - root_mean_squared_error: 2.3573 - val_loss: 15.3474 - val_root_mean_squared_error: 3.9176\n",
            "Epoch 57/70\n",
            "10/10 [==============================] - 0s 6ms/step - loss: 5.7344 - root_mean_squared_error: 2.3947 - val_loss: 16.1630 - val_root_mean_squared_error: 4.0203\n",
            "Epoch 58/70\n",
            "10/10 [==============================] - 0s 4ms/step - loss: 5.7418 - root_mean_squared_error: 2.3962 - val_loss: 16.0836 - val_root_mean_squared_error: 4.0104\n",
            "Epoch 59/70\n",
            "10/10 [==============================] - 0s 6ms/step - loss: 6.2616 - root_mean_squared_error: 2.5023 - val_loss: 16.3042 - val_root_mean_squared_error: 4.0378\n",
            "Epoch 60/70\n",
            "10/10 [==============================] - 0s 4ms/step - loss: 6.3018 - root_mean_squared_error: 2.5103 - val_loss: 17.6766 - val_root_mean_squared_error: 4.2044\n",
            "Epoch 61/70\n",
            "10/10 [==============================] - 0s 5ms/step - loss: 5.5181 - root_mean_squared_error: 2.3491 - val_loss: 16.3514 - val_root_mean_squared_error: 4.0437\n",
            "Epoch 62/70\n",
            "10/10 [==============================] - 0s 5ms/step - loss: 5.9859 - root_mean_squared_error: 2.4466 - val_loss: 18.8429 - val_root_mean_squared_error: 4.3408\n",
            "Epoch 63/70\n",
            "10/10 [==============================] - 0s 4ms/step - loss: 5.6114 - root_mean_squared_error: 2.3688 - val_loss: 15.8546 - val_root_mean_squared_error: 3.9818\n",
            "Epoch 64/70\n",
            "10/10 [==============================] - 0s 6ms/step - loss: 6.3269 - root_mean_squared_error: 2.5153 - val_loss: 16.1419 - val_root_mean_squared_error: 4.0177\n",
            "Epoch 65/70\n",
            "10/10 [==============================] - 0s 5ms/step - loss: 5.6822 - root_mean_squared_error: 2.3837 - val_loss: 16.9987 - val_root_mean_squared_error: 4.1230\n",
            "Epoch 66/70\n",
            "10/10 [==============================] - 0s 4ms/step - loss: 6.3323 - root_mean_squared_error: 2.5164 - val_loss: 16.3967 - val_root_mean_squared_error: 4.0493\n",
            "Epoch 67/70\n",
            "10/10 [==============================] - 0s 4ms/step - loss: 5.9796 - root_mean_squared_error: 2.4453 - val_loss: 27.9747 - val_root_mean_squared_error: 5.2891\n",
            "Epoch 68/70\n",
            "10/10 [==============================] - 0s 6ms/step - loss: 6.8886 - root_mean_squared_error: 2.6246 - val_loss: 22.5570 - val_root_mean_squared_error: 4.7494\n",
            "Epoch 69/70\n",
            "10/10 [==============================] - 0s 6ms/step - loss: 6.0491 - root_mean_squared_error: 2.4595 - val_loss: 19.0051 - val_root_mean_squared_error: 4.3595\n",
            "Epoch 70/70\n",
            "10/10 [==============================] - 0s 4ms/step - loss: 5.8409 - root_mean_squared_error: 2.4168 - val_loss: 19.6789 - val_root_mean_squared_error: 4.4361\n"
          ]
        }
      ]
    },
    {
      "cell_type": "code",
      "source": [
        "import pandas as pd\n",
        "import matplotlib.pyplot as plt\n",
        "pd.DataFrame(history.history).plot(figsize=(10,8))\n",
        "plt.grid(True)\n",
        "plt.gca().set_ylim(0,60)\n",
        "plt.xlabel(\"# of Epocs\")\n",
        "plt.show()"
      ],
      "metadata": {
        "colab": {
          "base_uri": "https://localhost:8080/",
          "height": 501
        },
        "id": "9mQFAjPOj2MK",
        "outputId": "71e10407-bbed-4389-8670-fecd0599347c"
      },
      "execution_count": 44,
      "outputs": [
        {
          "output_type": "display_data",
          "data": {
            "text/plain": [
              "<Figure size 720x576 with 1 Axes>"
            ],
            "image/png": "[encoded data removed]"
          },
          "metadata": {
            "needs_background": "light"
          }
        }
      ]
    },
    {
      "cell_type": "code",
      "source": [
        "mean_squared_error(test_Y,keras_model.predict(test_X)) ** (1/2)"
      ],
      "metadata": {
        "colab": {
          "base_uri": "https://localhost:8080/"
        },
        "id": "rRMH4ggZj30Q",
        "outputId": "dfb25b21-8f56-46e5-db71-fe49b4dae2b1"
      },
      "execution_count": 45,
      "outputs": [
        {
          "output_type": "execute_result",
          "data": {
            "text/plain": [
              "4.6695230635532745"
            ]
          },
          "metadata": {},
          "execution_count": 45
        }
      ]
    },
    {
      "cell_type": "markdown",
      "source": [
        "Classificaiton using Keras"
      ],
      "metadata": {
        "id": "G_tKSG49kQ7h"
      }
    },
    {
      "cell_type": "code",
      "source": [
        "#データをダウンロードして、トレーニングとテストに分ける\n",
        "(train_X, train_Y), (test_X, test_Y) = tf.keras.datasets.mnist.load_data(path=\"mnist.npz\")"
      ],
      "metadata": {
        "id": "RyMU-8EHkRmg"
      },
      "execution_count": 46,
      "outputs": []
    },
    {
      "cell_type": "code",
      "source": [
        "#イメージを実際に視覚化してみる\n",
        "from matplotlib import pyplot as plt\n",
        "plt.imshow(train_X[0],cmap='Greys')\n",
        "plt.show()"
      ],
      "metadata": {
        "colab": {
          "base_uri": "https://localhost:8080/",
          "height": 265
        },
        "id": "aAm-gPvgkZXR",
        "outputId": "7d6b6e3b-c4d7-49ca-92b0-45be3034abc6"
      },
      "execution_count": 47,
      "outputs": [
        {
          "output_type": "display_data",
          "data": {
            "text/plain": [
              "<Figure size 432x288 with 1 Axes>"
            ],
            "image/png": "[encoded data removed]"
          },
          "metadata": {
            "needs_background": "light"
          }
        }
      ]
    },
    {
      "cell_type": "code",
      "source": [
        "import tensorflow as tf \n",
        "from tensorflow import keras\n",
        "from sklearn.preprocessing import StandardScaler\n",
        "\n",
        "#training と validationに分ける\n",
        "train_X, valid_X, train_Y, valid_Y = train_test_split(train_X, train_Y)\n",
        "\n",
        "#最適化のアルゴリズムを早くするために、変数をスケーリングします。\n",
        "train_X = train_X / 255.0\n",
        "valid_X = valid_X / 255.0\n",
        "test_X = test_X / 255.0\n",
        "\n",
        "keras_clf = keras.models.Sequential()\n",
        "#input layerを作る。もともとのinputのデータが2-Dなので、1Dにします。\n",
        "keras_clf.add(keras.layers.Flatten(input_shape=[28,28]))\n",
        "#output layer を作る.10個のクラスがあるので、10個のニューロンが必要。\n",
        "keras_clf.add(keras.layers.Dense(10,activation = 'softmax'))\n",
        "\n",
        "keras_clf.summary()\n",
        "keras_clf.compile(loss=\"sparse_categorical_crossentropy\", optimizer=\"sgd\",metrics=[\"accuracy\"])\n",
        "history = keras_clf.fit(train_X, train_Y, epochs=20, validation_data=(valid_X, valid_Y))"
      ],
      "metadata": {
        "colab": {
          "base_uri": "https://localhost:8080/"
        },
        "id": "VFDgAWdKkdJZ",
        "outputId": "62636e45-0d26-4074-c831-0a6a1edaff40"
      },
      "execution_count": 48,
      "outputs": [
        {
          "output_type": "stream",
          "name": "stdout",
          "text": [
            "Model: \"sequential_4\"\n",
            "_________________________________________________________________\n",
            " Layer (type)                Output Shape              Param #   \n",
            "=================================================================\n",
            " flatten_1 (Flatten)         (None, 784)               0         \n",
            "                                                                 \n",
            " dense_7 (Dense)             (None, 10)                7850      \n",
            "                                                                 \n",
            "=================================================================\n",
            "Total params: 7,850\n",
            "Trainable params: 7,850\n",
            "Non-trainable params: 0\n",
            "_________________________________________________________________\n",
            "Epoch 1/20\n",
            "1407/1407 [==============================] - 3s 2ms/step - loss: 0.8660 - accuracy: 0.7937 - val_loss: 0.5447 - val_accuracy: 0.8720\n",
            "Epoch 2/20\n",
            "1407/1407 [==============================] - 2s 2ms/step - loss: 0.4961 - accuracy: 0.8726 - val_loss: 0.4457 - val_accuracy: 0.8869\n",
            "Epoch 3/20\n",
            "1407/1407 [==============================] - 3s 2ms/step - loss: 0.4331 - accuracy: 0.8838 - val_loss: 0.4041 - val_accuracy: 0.8947\n",
            "Epoch 4/20\n",
            "1407/1407 [==============================] - 2s 2ms/step - loss: 0.4019 - accuracy: 0.8913 - val_loss: 0.3811 - val_accuracy: 0.8981\n",
            "Epoch 5/20\n",
            "1407/1407 [==============================] - 3s 2ms/step - loss: 0.3823 - accuracy: 0.8952 - val_loss: 0.3655 - val_accuracy: 0.9005\n",
            "Epoch 6/20\n",
            "1407/1407 [==============================] - 2s 2ms/step - loss: 0.3684 - accuracy: 0.8986 - val_loss: 0.3541 - val_accuracy: 0.9049\n",
            "Epoch 7/20\n",
            "1407/1407 [==============================] - 2s 2ms/step - loss: 0.3580 - accuracy: 0.9009 - val_loss: 0.3451 - val_accuracy: 0.9067\n",
            "Epoch 8/20\n",
            "1407/1407 [==============================] - 2s 2ms/step - loss: 0.3497 - accuracy: 0.9024 - val_loss: 0.3383 - val_accuracy: 0.9084\n",
            "Epoch 9/20\n",
            "1407/1407 [==============================] - 2s 2ms/step - loss: 0.3427 - accuracy: 0.9046 - val_loss: 0.3322 - val_accuracy: 0.9094\n",
            "Epoch 10/20\n",
            "1407/1407 [==============================] - 3s 2ms/step - loss: 0.3370 - accuracy: 0.9059 - val_loss: 0.3278 - val_accuracy: 0.9112\n",
            "Epoch 11/20\n",
            "1407/1407 [==============================] - 2s 2ms/step - loss: 0.3322 - accuracy: 0.9068 - val_loss: 0.3232 - val_accuracy: 0.9121\n",
            "Epoch 12/20\n",
            "1407/1407 [==============================] - 3s 2ms/step - loss: 0.3278 - accuracy: 0.9075 - val_loss: 0.3199 - val_accuracy: 0.9135\n",
            "Epoch 13/20\n",
            "1407/1407 [==============================] - 2s 2ms/step - loss: 0.3241 - accuracy: 0.9088 - val_loss: 0.3165 - val_accuracy: 0.9146\n",
            "Epoch 14/20\n",
            "1407/1407 [==============================] - 3s 2ms/step - loss: 0.3207 - accuracy: 0.9102 - val_loss: 0.3137 - val_accuracy: 0.9153\n",
            "Epoch 15/20\n",
            "1407/1407 [==============================] - 2s 2ms/step - loss: 0.3177 - accuracy: 0.9108 - val_loss: 0.3116 - val_accuracy: 0.9156\n",
            "Epoch 16/20\n",
            "1407/1407 [==============================] - 2s 2ms/step - loss: 0.3149 - accuracy: 0.9110 - val_loss: 0.3090 - val_accuracy: 0.9173\n",
            "Epoch 17/20\n",
            "1407/1407 [==============================] - 3s 2ms/step - loss: 0.3123 - accuracy: 0.9118 - val_loss: 0.3073 - val_accuracy: 0.9177\n",
            "Epoch 18/20\n",
            "1407/1407 [==============================] - 2s 2ms/step - loss: 0.3101 - accuracy: 0.9124 - val_loss: 0.3051 - val_accuracy: 0.9179\n",
            "Epoch 19/20\n",
            "1407/1407 [==============================] - 2s 2ms/step - loss: 0.3080 - accuracy: 0.9131 - val_loss: 0.3037 - val_accuracy: 0.9179\n",
            "Epoch 20/20\n",
            "1407/1407 [==============================] - 2s 2ms/step - loss: 0.3060 - accuracy: 0.9132 - val_loss: 0.3025 - val_accuracy: 0.9184\n"
          ]
        }
      ]
    },
    {
      "cell_type": "code",
      "source": [
        "pd.DataFrame(history.history).plot(figsize=(8,5))\n",
        "plt.grid(True)\n",
        "plt.gca()\n",
        "plt.xlabel(\"# of Epocs\")\n",
        "plt.show()"
      ],
      "metadata": {
        "colab": {
          "base_uri": "https://localhost:8080/",
          "height": 334
        },
        "id": "-Ns2G-oNkq2H",
        "outputId": "b9fb6764-d140-4750-c758-4a59ee532ec0"
      },
      "execution_count": 49,
      "outputs": [
        {
          "output_type": "display_data",
          "data": {
            "text/plain": [
              "<Figure size 576x360 with 1 Axes>"
            ],
            "image/png": "[encoded data removed]"
          },
          "metadata": {
            "needs_background": "light"
          }
        }
      ]
    },
    {
      "cell_type": "code",
      "source": [
        "#accuracyを計算\n",
        "from sklearn.metrics import accuracy_score\n",
        "print(\"Accuracy: \" +str(accuracy_score(test_Y,keras_clf.predict(test_X).argmax(axis=-1))))"
      ],
      "metadata": {
        "colab": {
          "base_uri": "https://localhost:8080/"
        },
        "id": "1uy7x_phkr3n",
        "outputId": "9a368668-f43a-4f9a-edb2-52a23a4a5c62"
      },
      "execution_count": 50,
      "outputs": [
        {
          "output_type": "stream",
          "name": "stdout",
          "text": [
            "Accuracy: 0.9173\n"
          ]
        }
      ]
    },
    {
      "cell_type": "code",
      "source": [
        "#3のアウトプットノードに関連する重みを全部について、28＊28の2-Dに変換\n",
        "plt.imshow(np.reshape(keras_clf.get_weights()[0][:,3],(28,28)),cmap=\"seismic\")"
      ],
      "metadata": {
        "colab": {
          "base_uri": "https://localhost:8080/",
          "height": 283
        },
        "id": "8Mi5yzDQkvGI",
        "outputId": "bd5231bb-c879-4e02-abce-e12f8afc7a54"
      },
      "execution_count": 51,
      "outputs": [
        {
          "output_type": "execute_result",
          "data": {
            "text/plain": [
              "<matplotlib.image.AxesImage at 0x7fa082195450>"
            ]
          },
          "metadata": {},
          "execution_count": 51
        },
        {
          "output_type": "display_data",
          "data": {
            "text/plain": [
              "<Figure size 432x288 with 1 Axes>"
            ],
            "image/png": "[encoded data removed]"
          },
          "metadata": {
            "needs_background": "light"
          }
        }
      ]
    }
  ]
}