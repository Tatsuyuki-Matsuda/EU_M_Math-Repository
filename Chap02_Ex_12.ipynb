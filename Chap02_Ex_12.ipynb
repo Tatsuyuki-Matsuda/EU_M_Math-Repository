{
  "nbformat": 4,
  "nbformat_minor": 0,
  "metadata": {
    "colab": {
      "name": "Chap02_Ex_12.ipynb",
      "provenance": [],
      "authorship_tag": "ABX9TyOSu8NSjCvbgE9tB2sFaJhw",
      "include_colab_link": true
    },
    "kernelspec": {
      "name": "python3",
      "display_name": "Python 3"
    },
    "language_info": {
      "name": "python"
    }
  },
  "cells": [
    {
      "cell_type": "markdown",
      "metadata": {
        "id": "view-in-github",
        "colab_type": "text"
      },
      "source": [
        "<a href=\"https://colab.research.google.com/github/Tatsuyuki-Matsuda/EU_M_Math-Repository/blob/main/Chap02_Ex_12.ipynb\" target=\"_parent\"><img src=\"https://colab.research.google.com/assets/colab-badge.svg\" alt=\"Open In Colab\"/></a>"
      ]
    },
    {
      "cell_type": "code",
      "execution_count": 15,
      "metadata": {
        "colab": {
          "base_uri": "https://localhost:8080/",
          "height": 265
        },
        "id": "eqEL28rdVhXD",
        "outputId": "3d36b92f-0615-40ef-c553-bc2a3a66a1cc"
      },
      "outputs": [
        {
          "output_type": "display_data",
          "data": {
            "text/plain": [
              "<Figure size 432x288 with 2 Axes>"
            ],
            "image/png": "[encoded data removed]"
          },
          "metadata": {
            "needs_background": "light"
          }
        }
      ],
      "source": [
        "#Exercise 2-12\n",
        "import numpy as np\n",
        "import matplotlib.pyplot as plt\n",
        "import numpy.random as random\n",
        "\n",
        "random.seed(0)\n",
        "\n",
        "plt.subplot(2,1,1)\n",
        "data1 = np.random.uniform(0.0, 1.0, 1000)\n",
        "plt.hist(data1, range = (0, 1))\n",
        "plt.grid(True)\n",
        "\n",
        "plt.subplot(2,1,2)\n",
        "data2 = np.random.uniform(0.0, 1.0, 1000)\n",
        "plt.hist(data2, range = (0, 1))\n",
        "plt.grid(True)"
      ]
    },
    {
      "cell_type": "code",
      "source": [
        "import numpy as np\n",
        "import matplotlib.pyplot as plt\n",
        "import numpy.random as random\n",
        "\n",
        "random.seed(0)\n",
        "\n",
        "plt.subplot(2,1,1)\n",
        "data3 = np.random.uniform(0.0, 1.0, 100)\n",
        "plt.hist(data3, range = (0, 1))\n",
        "plt.grid(True)\n",
        "\n",
        "plt.subplot(2,1,2)\n",
        "data4 = np.random.uniform(0.0, 1.0, 100)\n",
        "plt.hist(data4, range = (0, 1))\n",
        "plt.grid(True)"
      ],
      "metadata": {
        "colab": {
          "base_uri": "https://localhost:8080/",
          "height": 265
        },
        "id": "KkAJFfz8ZvIF",
        "outputId": "e1f64ca9-447a-43e2-e3ff-e3503c901be2"
      },
      "execution_count": 16,
      "outputs": [
        {
          "output_type": "display_data",
          "data": {
            "text/plain": [
              "<Figure size 432x288 with 2 Axes>"
            ],
            "image/png": "[encoded data removed]"
          },
          "metadata": {
            "needs_background": "light"
          }
        }
      ]
    },
    {
      "cell_type": "code",
      "source": [
        "import numpy as np\n",
        "import matplotlib.pyplot as plt\n",
        "import numpy.random as random\n",
        "\n",
        "random.seed(0)\n",
        "\n",
        "plt.subplot(2,1,1)\n",
        "data5 = np.random.uniform(0.0, 1.0, 10000)\n",
        "plt.hist(data5, range = (0, 1))\n",
        "plt.grid(True)\n",
        "\n",
        "plt.subplot(2,1,2)\n",
        "data6 = np.random.uniform(0.0, 1.0, 10000)\n",
        "plt.hist(data5, range = (0, 1))\n",
        "plt.grid(True)"
      ],
      "metadata": {
        "colab": {
          "base_uri": "https://localhost:8080/",
          "height": 265
        },
        "id": "taKKNyGeZ99B",
        "outputId": "17594f04-48a4-4af0-d12b-1b727c6c8cce"
      },
      "execution_count": 17,
      "outputs": [
        {
          "output_type": "display_data",
          "data": {
            "text/plain": [
              "<Figure size 432x288 with 2 Axes>"
            ],
            "image/png": "[encoded data removed]"
          },
          "metadata": {
            "needs_background": "light"
          }
        }
      ]
    }
  ]
}