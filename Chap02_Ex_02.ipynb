{
  "nbformat": 4,
  "nbformat_minor": 0,
  "metadata": {
    "colab": {
      "name": "Chap02_Ex_02.ipynb",
      "provenance": [],
      "authorship_tag": "ABX9TyOEkg48prpYc4yTd++sYWhu",
      "include_colab_link": true
    },
    "kernelspec": {
      "name": "python3",
      "display_name": "Python 3"
    },
    "language_info": {
      "name": "python"
    }
  },
  "cells": [
    {
      "cell_type": "markdown",
      "metadata": {
        "id": "view-in-github",
        "colab_type": "text"
      },
      "source": [
        "<a href=\"https://colab.research.google.com/github/Tatsuyuki-Matsuda/EU_M_Math-Repository/blob/main/Chap02_Ex_02.ipynb\" target=\"_parent\"><img src=\"https://colab.research.google.com/assets/colab-badge.svg\" alt=\"Open In Colab\"/></a>"
      ]
    },
    {
      "cell_type": "code",
      "execution_count": 1,
      "metadata": {
        "id": "4KkEcrcNLs8y",
        "colab": {
          "base_uri": "https://localhost:8080/"
        },
        "outputId": "a00bdd4c-70b4-4792-c65a-04ef4ff14096"
      },
      "outputs": [
        {
          "output_type": "stream",
          "name": "stdout",
          "text": [
            "[ 1.76405235  0.40015721  0.97873798  2.2408932   1.86755799 -0.97727788\n",
            "  0.95008842 -0.15135721 -0.10321885  0.4105985 ]\n",
            "最小値 :  -0.977277879876411\n",
            "最大値 :  2.240893199201458\n",
            "合計 :  7.380231707288347\n"
          ]
        }
      ],
      "source": [
        "#Exercise 2-2\n",
        "import numpy as np\n",
        "import numpy.random as random\n",
        "random.seed(0) #発生する乱数を固定\n",
        "\n",
        "data = random.randn(10)\n",
        "\n",
        "print(data)\n",
        "print('最小値 : ', data.min())\n",
        "print('最大値 : ', data.max())\n",
        "print('合計 : ', data.sum())"
      ]
    }
  ]
}