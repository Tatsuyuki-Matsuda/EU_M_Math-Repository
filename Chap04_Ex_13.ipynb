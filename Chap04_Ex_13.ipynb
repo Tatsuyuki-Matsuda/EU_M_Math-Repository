{
  "nbformat": 4,
  "nbformat_minor": 0,
  "metadata": {
    "colab": {
      "name": "Chap04-Ex-13.ipynb",
      "provenance": [],
      "collapsed_sections": [],
      "authorship_tag": "ABX9TyNxXjSPv0eNbmDx+FLdKMOX",
      "include_colab_link": true
    },
    "kernelspec": {
      "name": "python3",
      "display_name": "Python 3"
    },
    "language_info": {
      "name": "python"
    }
  },
  "cells": [
    {
      "cell_type": "markdown",
      "metadata": {
        "id": "view-in-github",
        "colab_type": "text"
      },
      "source": [
        "<a href=\"https://colab.research.google.com/github/Tatsuyuki-Matsuda/EU_M_Math-Repository/blob/main/Chap04_Ex_13.ipynb\" target=\"_parent\"><img src=\"https://colab.research.google.com/assets/colab-badge.svg\" alt=\"Open In Colab\"/></a>"
      ]
    },
    {
      "cell_type": "code",
      "source": [
        "import requests, zipfile\n",
        "from io import StringIO\n",
        "import io\n",
        "\n",
        "url = 'https://archive.ics.uci.edu/ml/machine-learning-databases/00356/student.zip'\n",
        "\n",
        "r = requests.get(url, stream=True)\n",
        "\n",
        "z = zipfile.ZipFile(io.BytesIO(r.content))\n",
        "z.extractall()\n",
        "\n",
        "import pandas as pd\n",
        "student_data_math = pd.read_csv('student-mat.csv', sep=';')\n",
        "student_data_por = pd.read_csv('student-por.csv', sep=';')\n",
        "\n",
        "student_data_mat_por = pd.merge(student_data_math,\n",
        "                                student_data_por,\n",
        "                                on = ['school','sex','age','address','famsize','Pstatus','Medu','Fedu','Mjob','Fjob','reason','nursery','internet'],\n",
        "                                suffixes = ('_math', '_por')\n",
        "                                )"
      ],
      "metadata": {
        "id": "RFfmyUVrS4Fd"
      },
      "execution_count": null,
      "outputs": []
    },
    {
      "cell_type": "code",
      "execution_count": null,
      "metadata": {
        "colab": {
          "base_uri": "https://localhost:8080/"
        },
        "id": "coC_RakaSo1Z",
        "outputId": "cc34b2f7-1c24-4ddf-ac25-c93d7989c12f"
      },
      "outputs": [
        {
          "output_type": "stream",
          "name": "stdout",
          "text": [
            "G2数学の成績平均 : 10.712041884816754\n",
            "G2ポルトガル語の成績平均 : 12.238219895287958\n",
            "G2のp値 =  4.0622824801348043e-19\n",
            "G3数学の成績平均 : 10.387434554973822\n",
            "G3ポルトガル語の成績平均 : 12.515706806282722\n",
            "G3のp値 =  5.561492113688385e-21\n"
          ]
        }
      ],
      "source": [
        "#Exercise 4-13\n",
        "G2_math_ave = student_data_mat_por.G2_math.mean()\n",
        "G2_por_ave = student_data_mat_por.G2_por.mean()\n",
        "print('G2数学の成績平均 :', G2_math_ave)\n",
        "print('G2ポルトガル語の成績平均 :', G2_por_ave)\n",
        "\n",
        "from scipy import stats\n",
        "t, p = stats.ttest_rel(student_data_mat_por.G2_math, student_data_mat_por.G2_por)\n",
        "print( 'G2のp値 = ',p)\n",
        "\n",
        "G3_math_ave = student_data_mat_por.G3_math.mean()\n",
        "G3_por_ave = student_data_mat_por.G3_por.mean()\n",
        "print('G3数学の成績平均 :', G3_math_ave)\n",
        "print('G3ポルトガル語の成績平均 :', G3_por_ave)\n",
        "\n",
        "t, p = stats.ttest_rel(student_data_mat_por.G3_math, student_data_mat_por.G3_por)\n",
        "print( 'G3のp値 = ',p)\n",
        "\n",
        "#G2、G3の有意差pはともに非常に小さく有意水準1%未満でも「差がある」と言える"
      ]
    }
  ]
}