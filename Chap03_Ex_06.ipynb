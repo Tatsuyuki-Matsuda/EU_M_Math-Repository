{
  "nbformat": 4,
  "nbformat_minor": 0,
  "metadata": {
    "colab": {
      "name": "Chap03-Ex-06.ipynb",
      "provenance": [],
      "authorship_tag": "ABX9TyPOGnfTClBvqHH1nGAj57+G",
      "include_colab_link": true
    },
    "kernelspec": {
      "name": "python3",
      "display_name": "Python 3"
    },
    "language_info": {
      "name": "python"
    }
  },
  "cells": [
    {
      "cell_type": "markdown",
      "metadata": {
        "id": "view-in-github",
        "colab_type": "text"
      },
      "source": [
        "<a href=\"https://colab.research.google.com/github/Tatsuyuki-Matsuda/EU_M_Math-Repository/blob/main/Chap03_Ex_06.ipynb\" target=\"_parent\"><img src=\"https://colab.research.google.com/assets/colab-badge.svg\" alt=\"Open In Colab\"/></a>"
      ]
    },
    {
      "cell_type": "code",
      "source": [
        "pwd"
      ],
      "metadata": {
        "id": "1qn7CAPJLJ59",
        "colab": {
          "base_uri": "https://localhost:8080/",
          "height": 36
        },
        "outputId": "0ee5aaa1-2fae-4fe9-cfe3-cae7233a8d26"
      },
      "execution_count": 1,
      "outputs": [
        {
          "output_type": "execute_result",
          "data": {
            "text/plain": [
              "'/content'"
            ],
            "application/vnd.google.colaboratory.intrinsic+json": {
              "type": "string"
            }
          },
          "metadata": {},
          "execution_count": 1
        }
      ]
    },
    {
      "cell_type": "code",
      "source": [
        "mkdir chap3"
      ],
      "metadata": {
        "id": "PAn3V8SqLRA7"
      },
      "execution_count": 2,
      "outputs": []
    },
    {
      "cell_type": "code",
      "source": [
        "cd ./chap3"
      ],
      "metadata": {
        "id": "9aQyZRE_LR8V",
        "colab": {
          "base_uri": "https://localhost:8080/"
        },
        "outputId": "c7cb9a4c-dcce-47dd-c493-e526a6d542f0"
      },
      "execution_count": 3,
      "outputs": [
        {
          "output_type": "stream",
          "name": "stdout",
          "text": [
            "/content/chap3\n"
          ]
        }
      ]
    },
    {
      "cell_type": "code",
      "execution_count": 4,
      "metadata": {
        "id": "KzzVtqjBLCER"
      },
      "outputs": [],
      "source": [
        "import requests, zipfile\n",
        "from io import StringIO\n",
        "import io\n",
        "\n",
        "url = 'https://archive.ics.uci.edu/ml/machine-learning-databases/00356/student.zip'\n",
        "\n",
        "r = requests.get(url, stream=True)\n",
        "\n",
        "z = zipfile.ZipFile(io.BytesIO(r.content))\n",
        "z.extractall()"
      ]
    },
    {
      "cell_type": "code",
      "source": [
        "import pandas as pd\n",
        "student_data_math = pd.read_csv('student-mat.csv', sep=';')\n",
        "student_data_por = pd.read_csv('student-por.csv', sep=';')"
      ],
      "metadata": {
        "id": "Yy1h4FqwLtbX"
      },
      "execution_count": 5,
      "outputs": []
    },
    {
      "cell_type": "code",
      "source": [
        "student_data_mat_por = pd.merge(student_data_math,\n",
        "                                student_data_por,\n",
        "                                on = ['school','sex','age','address','famsize','Pstatus','Medu','Fedu','Mjob','Fjob','reason','nursery','internet'],\n",
        "                                suffixes = ('_math', '_por')\n",
        "                                )"
      ],
      "metadata": {
        "id": "-Li-k1tPjotK"
      },
      "execution_count": 6,
      "outputs": []
    },
    {
      "cell_type": "code",
      "source": [
        "#Exercise 3-6\n",
        "from sklearn import linear_model\n",
        "reg = linear_model.LinearRegression()\n",
        "X = student_data_por.loc[:, ['absences']].values\n",
        "Y = student_data_por['G3'].values\n",
        "reg.fit(X, Y)\n",
        "\n",
        "print('回帰係数 :', reg.coef_)\n",
        "print('切片 :', reg.intercept_)\n",
        "print('決定係数 :', reg.score(X, Y))\n",
        "\n",
        "import matplotlib.pyplot as plt\n",
        "plt.scatter(X, Y)\n",
        "plt.xlabel('absences grade')\n",
        "plt.ylabel('G3 grade')\n",
        "plt.plot(X, reg.predict(X))\n",
        "plt.grid(True)"
      ],
      "metadata": {
        "colab": {
          "base_uri": "https://localhost:8080/",
          "height": 333
        },
        "id": "tkeC6sJayazk",
        "outputId": "829ee5c0-8efc-4d73-f5fc-389a44b563de"
      },
      "execution_count": 8,
      "outputs": [
        {
          "output_type": "stream",
          "name": "stdout",
          "text": [
            "回帰係数 : [-0.06361337]\n",
            "切片 : 12.138800862687443\n",
            "決定係数 : 0.008350131955637385\n"
          ]
        },
        {
          "output_type": "display_data",
          "data": {
            "text/plain": [
              "<Figure size 432x288 with 1 Axes>"
            ],
            "image/png": "[encoded data removed]"
          },
          "metadata": {
            "needs_background": "light"
          }
        }
      ]
    }
  ]
}