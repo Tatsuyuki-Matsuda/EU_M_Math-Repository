{
  "nbformat": 4,
  "nbformat_minor": 0,
  "metadata": {
    "colab": {
      "name": "Chap01_Cm-02.ipynb",
      "provenance": [],
      "collapsed_sections": [],
      "authorship_tag": "ABX9TyNfOujjTL1hbjEuN5Zq12OQ",
      "include_colab_link": true
    },
    "kernelspec": {
      "name": "python3",
      "display_name": "Python 3"
    },
    "language_info": {
      "name": "python"
    }
  },
  "cells": [
    {
      "cell_type": "markdown",
      "metadata": {
        "id": "view-in-github",
        "colab_type": "text"
      },
      "source": [
        "<a href=\"https://colab.research.google.com/github/Tatsuyuki-Matsuda/EU_M_Math-Repository/blob/main/Chap01_Cm_02.ipynb\" target=\"_parent\"><img src=\"https://colab.research.google.com/assets/colab-badge.svg\" alt=\"Open In Colab\"/></a>"
      ]
    },
    {
      "cell_type": "code",
      "execution_count": 1,
      "metadata": {
        "colab": {
          "base_uri": "https://localhost:8080/"
        },
        "id": "FJIMcNu0DhAa",
        "outputId": "20b8ca70-17b1-45bb-ea7e-cfbab635bddc"
      },
      "outputs": [
        {
          "output_type": "stream",
          "name": "stdout",
          "text": [
            "2 3 5 7 "
          ]
        }
      ],
      "source": [
        "#Comprehensive 1-2\n",
        "def primeNum(N):\n",
        "  for i in range(2, N):\n",
        "    for j in range(2, i):\n",
        "        if i % j == 0:\n",
        "            break\n",
        "    else:\n",
        "      print(i, end=' ')\n",
        "\n",
        "primeNum(10)"
      ]
    }
  ]
}