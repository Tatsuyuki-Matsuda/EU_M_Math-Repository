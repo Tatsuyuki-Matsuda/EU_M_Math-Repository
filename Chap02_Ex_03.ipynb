{
  "nbformat": 4,
  "nbformat_minor": 0,
  "metadata": {
    "colab": {
      "name": "Chap02_Ex_03.ipynb",
      "provenance": [],
      "authorship_tag": "ABX9TyMSvaAXIj5wLSskRSnVIvbV",
      "include_colab_link": true
    },
    "kernelspec": {
      "name": "python3",
      "display_name": "Python 3"
    },
    "language_info": {
      "name": "python"
    }
  },
  "cells": [
    {
      "cell_type": "markdown",
      "metadata": {
        "id": "view-in-github",
        "colab_type": "text"
      },
      "source": [
        "<a href=\"https://colab.research.google.com/github/Tatsuyuki-Matsuda/EU_M_Math-Repository/blob/main/Chap02_Ex_03.ipynb\" target=\"_parent\"><img src=\"https://colab.research.google.com/assets/colab-badge.svg\" alt=\"Open In Colab\"/></a>"
      ]
    },
    {
      "cell_type": "code",
      "execution_count": 8,
      "metadata": {
        "colab": {
          "base_uri": "https://localhost:8080/"
        },
        "id": "_vZufnd0Neca",
        "outputId": "3cb0bd7d-4433-453f-fa9b-48dd2b615ec9"
      },
      "outputs": [
        {
          "output_type": "stream",
          "name": "stdout",
          "text": [
            "[[45 45 45 45 45]\n",
            " [45 45 45 45 45]\n",
            " [45 45 45 45 45]\n",
            " [45 45 45 45 45]\n",
            " [45 45 45 45 45]]\n"
          ]
        }
      ],
      "source": [
        "#Exercise 2-2\n",
        "import numpy as np\n",
        "\n",
        "data = np.repeat([3], 5*5).reshape(5, 5)\n",
        "print(np.dot(data, data))"
      ]
    }
  ]
}