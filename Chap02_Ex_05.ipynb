{
  "nbformat": 4,
  "nbformat_minor": 0,
  "metadata": {
    "colab": {
      "name": "Chap02_Ex_05.ipynb",
      "provenance": [],
      "authorship_tag": "ABX9TyOQWHDP8A5w2wJfyewFDowE",
      "include_colab_link": true
    },
    "kernelspec": {
      "name": "python3",
      "display_name": "Python 3"
    },
    "language_info": {
      "name": "python"
    }
  },
  "cells": [
    {
      "cell_type": "markdown",
      "metadata": {
        "id": "view-in-github",
        "colab_type": "text"
      },
      "source": [
        "<a href=\"https://colab.research.google.com/github/Tatsuyuki-Matsuda/EU_M_Math-Repository/blob/main/Chap02_Ex_05.ipynb\" target=\"_parent\"><img src=\"https://colab.research.google.com/assets/colab-badge.svg\" alt=\"Open In Colab\"/></a>"
      ]
    },
    {
      "cell_type": "code",
      "execution_count": 8,
      "metadata": {
        "colab": {
          "base_uri": "https://localhost:8080/"
        },
        "id": "tXWh3wpDSB-m",
        "outputId": "19052635-f0f5-4e5d-f49d-a6a75f0d4f87"
      },
      "outputs": [
        {
          "output_type": "stream",
          "name": "stdout",
          "text": [
            "逆行列 : \n",
            "[[-0.33333333  0.08333333  0.41666667]\n",
            " [-0.33333333  0.58333333 -0.08333333]\n",
            " [ 0.66666667 -0.41666667 -0.08333333]]\n",
            "固有値 :  [ 6.        +0.j -1.41421356+0.j  1.41421356+0.j]\n",
            "固有ベクトル : \n",
            "[[-0.57735027 -0.72236645  0.16041816]\n",
            " [-0.57735027 -0.14290228 -0.81090869]\n",
            " [-0.57735027  0.67658381  0.56275492]]\n"
          ]
        }
      ],
      "source": [
        "#Exercise 2-5\n",
        "import numpy as np\n",
        "import scipy.linalg as linalg\n",
        "\n",
        "A = np.array([[1, 2, 3], [1, 3, 2], [3, 1, 2]])\n",
        "print('逆行列 : ')\n",
        "print(linalg.inv(A))\n",
        "\n",
        "eig_value, eig_vector = linalg.eig(A)\n",
        "print('固有値 : ', eig_value)\n",
        "print('固有ベクトル : ')\n",
        "print(eig_vector)"
      ]
    }
  ]
}