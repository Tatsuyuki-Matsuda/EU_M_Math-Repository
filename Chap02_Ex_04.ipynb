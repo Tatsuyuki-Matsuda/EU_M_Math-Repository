{
  "nbformat": 4,
  "nbformat_minor": 0,
  "metadata": {
    "colab": {
      "name": "Chap02_Ex_04.ipynb",
      "provenance": [],
      "authorship_tag": "ABX9TyOeNwVzXGwCFJRlZhDzO4Ka",
      "include_colab_link": true
    },
    "kernelspec": {
      "name": "python3",
      "display_name": "Python 3"
    },
    "language_info": {
      "name": "python"
    }
  },
  "cells": [
    {
      "cell_type": "markdown",
      "metadata": {
        "id": "view-in-github",
        "colab_type": "text"
      },
      "source": [
        "<a href=\"https://colab.research.google.com/github/Tatsuyuki-Matsuda/EU_M_Math-Repository/blob/main/Chap02_Ex_04.ipynb\" target=\"_parent\"><img src=\"https://colab.research.google.com/assets/colab-badge.svg\" alt=\"Open In Colab\"/></a>"
      ]
    },
    {
      "cell_type": "code",
      "execution_count": 2,
      "metadata": {
        "colab": {
          "base_uri": "https://localhost:8080/"
        },
        "id": "dkLdijtLQCJN",
        "outputId": "e62c8852-a45f-4c79-ebe6-7fdece748b70"
      },
      "outputs": [
        {
          "output_type": "stream",
          "name": "stdout",
          "text": [
            "行列式 :  -12.0\n"
          ]
        }
      ],
      "source": [
        "#Exercise 2-4\n",
        "import numpy as np\n",
        "import scipy.linalg as linalg\n",
        "\n",
        "A = np.array([[1, 2, 3], [1, 3, 2], [3, 1, 2]])\n",
        "print('行列式 : ', linalg.det(A))"
      ]
    }
  ]
}