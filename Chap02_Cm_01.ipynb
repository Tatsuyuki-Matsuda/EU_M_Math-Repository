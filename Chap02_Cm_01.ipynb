{
  "nbformat": 4,
  "nbformat_minor": 0,
  "metadata": {
    "colab": {
      "name": "Chap02-Cm-01.ipynb",
      "provenance": [],
      "authorship_tag": "ABX9TyOBsbTkJ+YxMfl4bEf5FIUO",
      "include_colab_link": true
    },
    "kernelspec": {
      "name": "python3",
      "display_name": "Python 3"
    },
    "language_info": {
      "name": "python"
    }
  },
  "cells": [
    {
      "cell_type": "markdown",
      "metadata": {
        "id": "view-in-github",
        "colab_type": "text"
      },
      "source": [
        "<a href=\"https://colab.research.google.com/github/Tatsuyuki-Matsuda/EU_M_Math-Repository/blob/main/Chap02_Cm_01.ipynb\" target=\"_parent\"><img src=\"https://colab.research.google.com/assets/colab-badge.svg\" alt=\"Open In Colab\"/></a>"
      ]
    },
    {
      "cell_type": "code",
      "execution_count": 7,
      "metadata": {
        "colab": {
          "base_uri": "https://localhost:8080/"
        },
        "id": "Il02-TFRmWCO",
        "outputId": "939bcb26-3de4-4ba5-d431-e7f3e984bf31"
      },
      "outputs": [
        {
          "output_type": "stream",
          "name": "stdout",
          "text": [
            "内部に入った組数 : 7868\n",
            "円周率の近似値 ; 3.1472\n"
          ]
        }
      ],
      "source": [
        "#Comprehensive 2-1\n",
        "import numpy as np\n",
        "import numpy.random as random\n",
        "\n",
        "N1 = 10000\n",
        "\n",
        "random.seed(0)\n",
        "\n",
        "x1 = np.random.uniform(0.0, 1.0, N1)\n",
        "y1 = np.random.uniform(0.0, 1.0, N1)\n",
        "data1 = np.sqrt((x1**2)+(y1**2))\n",
        "\n",
        "data_list1 = []\n",
        "data_list1 = [i for i in data1 if i < 1] #円の内側\n",
        "print('内部に入った組数 :', len(data_list1))\n",
        "\n",
        "count = len(data_list1)\n",
        "pi = (4 * count/N1)\n",
        "print('円周率の近似値 ;', pi)"
      ]
    },
    {
      "cell_type": "code",
      "source": [
        "import numpy as np\n",
        "import numpy.random as random\n",
        "\n",
        "N2 = 10000\n",
        "\n",
        "random.seed(0)\n",
        "\n",
        "x2 = np.random.uniform(0.0, 1.0, N2)\n",
        "y2 = np.random.uniform(0.0, 1.0, N2)\n",
        "\n",
        "inside_x2 = []\n",
        "inside_y2 = []\n",
        "outside_x2 = []\n",
        "outside_y2 = []\n",
        "\n",
        "import math\n",
        "count_inside = 0\n",
        "for j in range(0, N2):\n",
        "  d = math.hypot(x2[j], y2[j])\n",
        "  if d < 1:\n",
        "    count_inside += 1\n",
        "    inside_x2.append(x2[j])\n",
        "    inside_y2.append(y2[j])\n",
        "  else:\n",
        "    outside_x2.append(x2[j])\n",
        "    outside_y2.append(y2[j])\n",
        "print(count_inside)\n",
        "\n",
        "import matplotlib.pyplot as plt\n",
        "\n",
        "plt.figure(figsize=(5,5))\n",
        "plt.xlabel(\"X\")\n",
        "plt.ylabel(\"Y\")\n",
        "plt.title(\"PLOT\")\n",
        "\n",
        "plt.scatter(inside_x2, inside_y2, color = \"green\")\n",
        "plt.scatter(outside_x2, outside_y2, color = \"blue\")\n",
        "plt.grid(True)"
      ],
      "metadata": {
        "colab": {
          "base_uri": "https://localhost:8080/",
          "height": 368
        },
        "id": "cfirQbLhJ7aq",
        "outputId": "74f31769-60d8-4b92-b4eb-4845219c31b1"
      },
      "execution_count": 8,
      "outputs": [
        {
          "output_type": "stream",
          "name": "stdout",
          "text": [
            "7868\n"
          ]
        },
        {
          "output_type": "display_data",
          "data": {
            "text/plain": [
              "<Figure size 360x360 with 1 Axes>"
            ],
            "image/png": "[encoded data removed]"
          },
          "metadata": {
            "needs_background": "light"
          }
        }
      ]
    }
  ]
}