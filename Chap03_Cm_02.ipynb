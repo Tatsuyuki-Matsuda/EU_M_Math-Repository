{
  "nbformat": 4,
  "nbformat_minor": 0,
  "metadata": {
    "colab": {
      "name": "Chap03-Cm-02.ipynb",
      "provenance": [],
      "authorship_tag": "ABX9TyM+42+16sr7ToVzkWBSSHaV",
      "include_colab_link": true
    },
    "kernelspec": {
      "name": "python3",
      "display_name": "Python 3"
    },
    "language_info": {
      "name": "python"
    }
  },
  "cells": [
    {
      "cell_type": "markdown",
      "metadata": {
        "id": "view-in-github",
        "colab_type": "text"
      },
      "source": [
        "<a href=\"https://colab.research.google.com/github/Tatsuyuki-Matsuda/EU_M_Math-Repository/blob/main/Chap03_Cm_02.ipynb\" target=\"_parent\"><img src=\"https://colab.research.google.com/assets/colab-badge.svg\" alt=\"Open In Colab\"/></a>"
      ]
    },
    {
      "cell_type": "code",
      "source": [
        "pwd"
      ],
      "metadata": {
        "id": "1qn7CAPJLJ59",
        "colab": {
          "base_uri": "https://localhost:8080/",
          "height": 36
        },
        "outputId": "803391ab-1b54-458d-c981-6f4fae6af03b"
      },
      "execution_count": 11,
      "outputs": [
        {
          "output_type": "execute_result",
          "data": {
            "text/plain": [
              "'/content/chap3'"
            ],
            "application/vnd.google.colaboratory.intrinsic+json": {
              "type": "string"
            }
          },
          "metadata": {},
          "execution_count": 11
        }
      ]
    },
    {
      "cell_type": "code",
      "source": [
        "mkdir chap3"
      ],
      "metadata": {
        "id": "PAn3V8SqLRA7"
      },
      "execution_count": 12,
      "outputs": []
    },
    {
      "cell_type": "code",
      "source": [
        "cd ./chap3"
      ],
      "metadata": {
        "id": "9aQyZRE_LR8V",
        "colab": {
          "base_uri": "https://localhost:8080/"
        },
        "outputId": "befb30ea-2347-438d-82d2-6039d1dccc4a"
      },
      "execution_count": 13,
      "outputs": [
        {
          "output_type": "stream",
          "name": "stdout",
          "text": [
            "/content/chap3/chap3\n"
          ]
        }
      ]
    },
    {
      "cell_type": "code",
      "execution_count": 14,
      "metadata": {
        "id": "KzzVtqjBLCER"
      },
      "outputs": [],
      "source": [
        "import requests, zipfile\n",
        "from io import StringIO\n",
        "import io\n",
        "\n",
        "url = 'https://archive.ics.uci.edu/ml/machine-learning-databases/00356/student.zip'\n",
        "\n",
        "r = requests.get(url, stream=True)\n",
        "\n",
        "z = zipfile.ZipFile(io.BytesIO(r.content))\n",
        "z.extractall()"
      ]
    },
    {
      "cell_type": "code",
      "source": [
        "import pandas as pd\n",
        "student_data_math = pd.read_csv('student-mat.csv', sep=';')"
      ],
      "metadata": {
        "id": "Yy1h4FqwLtbX"
      },
      "execution_count": 15,
      "outputs": []
    },
    {
      "cell_type": "code",
      "source": [
        "#Comprehensive 3-2-1\n",
        "#データの抽出\n",
        "F_data = student_data_math[student_data_math['sex'] == 'F']\n",
        "M_data = student_data_math[student_data_math['sex'] == 'M']\n",
        "\n",
        "#データの並び替え\n",
        "F_data_G1_sort = F_data.G1.sort_values()\n",
        "M_data_G1_sort = M_data.G1.sort_values()\n",
        "\n",
        "#データと同じ長さの行列を作成\n",
        "import numpy as np\n",
        "F_data_len = np.arange(len(F_data))\n",
        "M_data_len = np.arange(len(M_data))\n",
        "\n",
        "#累積相対度数\n",
        "F_data_deg = F_data_len/F_data_len.max()\n",
        "M_data_deg = M_data_len/M_data_len.max()\n",
        "\n",
        "#累積比率\n",
        "M_data_G1_sort_ratio = M_data_G1_sort.cumsum() / M_data_G1_sort.sum()\n",
        "F_data_G1_sort_ratio = F_data_G1_sort.cumsum() / F_data_G1_sort.sum()\n",
        "\n",
        "import matplotlib.pyplot as plt\n",
        "import seaborn as sns\n",
        "%matplotlib inline\n",
        "#横軸:累積相対度数　縦軸:累積比率\n",
        "plt.plot(F_data_deg, F_data_deg, label = 'E')\n",
        "plt.plot(F_data_deg, F_data_G1_sort_ratio, label = 'F')\n",
        "plt.plot(M_data_deg, M_data_G1_sort_ratio, label = 'M')\n",
        "plt.legend()\n",
        "plt.grid(True)"
      ],
      "metadata": {
        "colab": {
          "base_uri": "https://localhost:8080/",
          "height": 265
        },
        "id": "QitabcX19Mvr",
        "outputId": "061b8740-7315-4c58-d102-36023d7b8ef7"
      },
      "execution_count": 16,
      "outputs": [
        {
          "output_type": "display_data",
          "data": {
            "text/plain": [
              "<Figure size 432x288 with 1 Axes>"
            ],
            "image/png": "[encoded data removed]"
          },
          "metadata": {
            "needs_background": "light"
          }
        }
      ]
    },
    {
      "cell_type": "code",
      "source": [
        "#Comprehensive 3-2-2\n",
        "def mean_dif(data):\n",
        "  subt = []\n",
        "  for i in range(0, len(data)-1):\n",
        "    for j in range(i+1, len(data)):\n",
        "      subt.append(np.abs(data[i] - data[j]))\n",
        "  return float(sum(subt))*2 / (len(data) ** 2)\n",
        "\n",
        "def gini(mean_dif, data):\n",
        "  return mean_dif / (2* np.mean(data))\n",
        "\n",
        "print('男性の数学の成績に関するジニ係数 :', gini(mean_dif(np.array(M_data_G1_sort)), np.array(M_data_G1_sort)))\n",
        "print('女性の数学の成績に関するジニ係数 :', gini(mean_dif(np.array(F_data_G1_sort)), np.array(F_data_G1_sort)))"
      ],
      "metadata": {
        "colab": {
          "base_uri": "https://localhost:8080/"
        },
        "id": "_X8Peh2n7ZAB",
        "outputId": "7a932b63-67c3-4f9e-d2ea-6ba76bb5f313"
      },
      "execution_count": 17,
      "outputs": [
        {
          "output_type": "stream",
          "name": "stdout",
          "text": [
            "男性の数学の成績に関するジニ係数 : 0.17197351667939903\n",
            "女性の数学の成績に関するジニ係数 : 0.1723782950865341\n"
          ]
        }
      ]
    }
  ]
}