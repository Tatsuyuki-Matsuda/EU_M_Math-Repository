{
  "nbformat": 4,
  "nbformat_minor": 0,
  "metadata": {
    "colab": {
      "name": "Chap02_Ex_06.ipynb",
      "provenance": [],
      "collapsed_sections": [],
      "authorship_tag": "ABX9TyOrFg9p8xxAk3albXlhm9bT",
      "include_colab_link": true
    },
    "kernelspec": {
      "name": "python3",
      "display_name": "Python 3"
    },
    "language_info": {
      "name": "python"
    }
  },
  "cells": [
    {
      "cell_type": "markdown",
      "metadata": {
        "id": "view-in-github",
        "colab_type": "text"
      },
      "source": [
        "<a href=\"https://colab.research.google.com/github/Tatsuyuki-Matsuda/EU_M_Math-Repository/blob/main/Chap02_Ex_06.ipynb\" target=\"_parent\"><img src=\"https://colab.research.google.com/assets/colab-badge.svg\" alt=\"Open In Colab\"/></a>"
      ]
    },
    {
      "cell_type": "code",
      "execution_count": 1,
      "metadata": {
        "colab": {
          "base_uri": "https://localhost:8080/"
        },
        "id": "ncgd8NMBj9pc",
        "outputId": "22279300-7b6e-465e-aeaa-a63a7ae5e013"
      },
      "outputs": [
        {
          "output_type": "stream",
          "name": "stdout",
          "text": [
            "-0.45339765151640365\n"
          ]
        }
      ],
      "source": [
        "#Exercise 2-6\n",
        "\n",
        "#関数の定義\n",
        "def function(x):\n",
        "  return (x**3 + 2*x + 1)\n",
        "\n",
        "#ニュートン法の読み込み\n",
        "from scipy.optimize import newton\n",
        "\n",
        "#計算実行\n",
        "print(newton(function, 0))"
      ]
    }
  ]
}